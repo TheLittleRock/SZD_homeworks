{
 "cells": [
  {
   "cell_type": "markdown",
   "id": "fd92f85c-ebd0-4593-b77b-d92f08f278c3",
   "metadata": {},
   "source": [
    "# HOMEWORK II"
   ]
  },
  {
   "cell_type": "markdown",
   "id": "fdb4d5f5-9ee3-43ce-a000-53f3a6cdaf56",
   "metadata": {},
   "source": [
    "## Imports and stuff"
   ]
  },
  {
   "cell_type": "code",
   "execution_count": 2,
   "id": "0da9e18d-35be-4c78-af7f-350582b0affb",
   "metadata": {},
   "outputs": [],
   "source": [
    "import numpy as np\n",
    "import matplotlib.pyplot as plt\n",
    "from scipy.optimize import curve_fit\n",
    "\n",
    "#gauss distribution\n",
    "def carl_friedrich(x,a,mu,sig):\n",
    "    return a * np.exp(-(x - mu)**2/(2*sig**2))"
   ]
  },
  {
   "cell_type": "code",
   "execution_count": 3,
   "id": "508162bc-cf96-468a-b688-a9769e294ed7",
   "metadata": {},
   "outputs": [],
   "source": [
    "params = {\n",
    "      'text.latex.preamble': r\"\\usepackage{mlmodern}\",\n",
    "      'legend.fontsize': 9,\n",
    "      'axes.labelsize': 9,\n",
    "      'axes.titlesize': 11,\n",
    "      'xtick.labelsize' :9,\n",
    "      'ytick.labelsize' : 9,\n",
    "      #'mathtext.fontset': 'cm',\n",
    "      #'mathtext.rm': 'stixsans',\n",
    "      'font.family' : 'mlmodern', \n",
    "      #'font.family' : 'sans-serif',\n",
    "      'text.usetex' : True,\n",
    "      }\n",
    "plt.rcParams.update(params)"
   ]
  }
 ],
 "metadata": {
  "kernelspec": {
   "display_name": "Python 3 (ipykernel)",
   "language": "python",
   "name": "python3"
  },
  "language_info": {
   "codemirror_mode": {
    "name": "ipython",
    "version": 3
   },
   "file_extension": ".py",
   "mimetype": "text/x-python",
   "name": "python",
   "nbconvert_exporter": "python",
   "pygments_lexer": "ipython3",
   "version": "3.11.6"
  }
 },
 "nbformat": 4,
 "nbformat_minor": 5
}
